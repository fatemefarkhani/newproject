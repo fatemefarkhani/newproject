{
  "nbformat": 4,
  "nbformat_minor": 0,
  "metadata": {
    "colab": {
      "name": "finalDMprj.ipynb",
      "provenance": []
    },
    "kernelspec": {
      "name": "python3",
      "display_name": "Python 3"
    },
    "language_info": {
      "name": "python"
    }
  },
  "cells": [
    {
      "cell_type": "code",
      "execution_count": null,
      "metadata": {
        "id": "KlVXWN_Gz_wA"
      },
      "outputs": [],
      "source": [
        "from google.colab import drive\n",
        "drive.mount('/content/drive')"
      ]
    },
    {
      "cell_type": "code",
      "source": [
        "%cd /content/drive/MyDrive/BERT/preprocess/"
      ],
      "metadata": {
        "id": "rVA0QitM0CDf"
      },
      "execution_count": null,
      "outputs": []
    },
    {
      "cell_type": "code",
      "source": [
        "!python /content/drive/MyDrive/BERT/preprocess/preprocess.py"
      ],
      "metadata": {
        "id": "2NCHLhnd0ID4"
      },
      "execution_count": null,
      "outputs": []
    },
    {
      "cell_type": "code",
      "source": [
        "!python /content/drive/MyDrive/BERT/scripts/train_drive_BERT.py"
      ],
      "metadata": {
        "id": "K8x4ktL-0TN1"
      },
      "execution_count": null,
      "outputs": []
    },
    {
      "cell_type": "code",
      "source": [
        "!python /content/drive/MyDrive/BERT/scripts/train_drive_CMLM.py"
      ],
      "metadata": {
        "id": "InRWjSSJ0o-l"
      },
      "execution_count": null,
      "outputs": []
    }
  ]
}
